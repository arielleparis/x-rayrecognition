{
  "nbformat": 4,
  "nbformat_minor": 0,
  "metadata": {
    "colab": {
      "name": "Image recognition ",
      "provenance": [],
      "authorship_tag": "ABX9TyOjR6NtpORddzWB7WPjdZqS"
    },
    "kernelspec": {
      "name": "python3",
      "display_name": "Python 3"
    },
    "language_info": {
      "name": "python"
    }
  },
  "cells": [
    {
      "cell_type": "code",
      "metadata": {
        "id": "qB8gqizHUKAO"
      },
      "source": [
        "#Description: This program classifies images\n"
      ],
      "execution_count": 39,
      "outputs": []
    },
    {
      "cell_type": "code",
      "metadata": {
        "id": "yO9-BhvoUs4h"
      },
      "source": [
        "#Import Libraries \n",
        "import tensorflow as tf \n",
        "from tensorflow import keras\n",
        "from keras.models import Sequential \n",
        "from keras.layers import Dense\n",
        "from keras.layers import Flatten\n",
        "from keras.layers import Dropout\n",
        "from keras.layers.convolutional import Conv2D\n",
        "from keras.layers.convolutional import MaxPooling2D\n",
        "from tensorflow.keras import layers \n",
        "from tensorflow.keras.utils import to_categorical\n",
        "import numpy as np\n",
        "import matplotlib.pyplot as plt \n",
        "plt.style.use('fivethirtyeight')"
      ],
      "execution_count": 56,
      "outputs": []
    },
    {
      "cell_type": "code",
      "metadata": {
        "id": "V_y7NLCFYHO8"
      },
      "source": [
        "#Load the data \n",
        "from keras.datasets import cifar10\n",
        "(x_train, y_train),(x_test,y_test)=cifar10.load_data()"
      ],
      "execution_count": 58,
      "outputs": []
    },
    {
      "cell_type": "code",
      "metadata": {
        "id": "dx8hSfRoYoK7"
      },
      "source": [
        "#Look at data \n",
        "print(type(x_train))\n",
        "print(type(y_train))\n",
        "print(type(x_test))\n",
        "print(type(y_test))"
      ],
      "execution_count": null,
      "outputs": []
    },
    {
      "cell_type": "code",
      "metadata": {
        "id": "OlJm3DEkZVfc"
      },
      "source": [
        "#Get the shape of the arrays\n",
        "print('x_train shape:', x_train.shape)\n",
        "print('y_train shape:', y_train.shape)\n",
        "print('x_test shape', x_test.shape)\n",
        "print('y_test shape', y_test.shape)"
      ],
      "execution_count": null,
      "outputs": []
    },
    {
      "cell_type": "code",
      "metadata": {
        "id": "Vamp1jtEW9JD"
      },
      "source": [
        "#Look at first image\n",
        "\n",
        "index = 4\n",
        "x_train[index]"
      ],
      "execution_count": null,
      "outputs": []
    },
    {
      "cell_type": "code",
      "metadata": {
        "id": "ImSSwzkDXNCk"
      },
      "source": [
        "#show image as a picture\n",
        "img = plt.imshow(x_train[index])"
      ],
      "execution_count": null,
      "outputs": []
    },
    {
      "cell_type": "code",
      "metadata": {
        "id": "bbF9klwmXdWs"
      },
      "source": [
        "#image label\n",
        "print('The image label is:', y_train[index])"
      ],
      "execution_count": null,
      "outputs": []
    },
    {
      "cell_type": "code",
      "metadata": {
        "id": "SG3WKt1YXd-U"
      },
      "source": [
        "#Get the image classification\n",
        "classification = ['airplane', 'automobile', 'bird', 'cat', \n",
        "                  'deer', 'dog', 'frog', 'horse' , 'ship ', 'truck']\n",
        "  \n",
        "#Print image class\n",
        "print('The image class is:', classification[y_train[index][0]])"
      ],
      "execution_count": null,
      "outputs": []
    },
    {
      "cell_type": "code",
      "metadata": {
        "id": "fdQwTgZYZlIM"
      },
      "source": [
        "#Convert the labels into a set of 10 numbers to input into the neuralnetwork\n",
        "\n",
        "y_train_one_hot = to_categorical(y_train)\n",
        "y_test_one_hot = to_categorical(y_test)"
      ],
      "execution_count": 65,
      "outputs": []
    },
    {
      "cell_type": "code",
      "metadata": {
        "id": "FYdPpx2laBlu"
      },
      "source": [
        "#Print the new labels\n",
        "\n",
        "print(y_train_one_hot)"
      ],
      "execution_count": null,
      "outputs": []
    },
    {
      "cell_type": "code",
      "metadata": {
        "id": "epMSa8UOaU-8"
      },
      "source": [
        "#print new label of tge large picture above\n",
        "print('The one hot label is:', y_train_one_hot[index])"
      ],
      "execution_count": null,
      "outputs": []
    },
    {
      "cell_type": "code",
      "metadata": {
        "id": "KX8pk1d9bXVR"
      },
      "source": [
        "#Normalize the pixels to be values between 0 and 1\n",
        "x_train = x_train/255\n",
        "x_test = x_test / 255"
      ],
      "execution_count": 68,
      "outputs": []
    },
    {
      "cell_type": "code",
      "metadata": {
        "id": "DweAf2XAb1ee"
      },
      "source": [
        "x_train[index]"
      ],
      "execution_count": null,
      "outputs": []
    },
    {
      "cell_type": "code",
      "metadata": {
        "id": "myypls6ob-DX"
      },
      "source": [
        "#Create the model architecture\n",
        "model = tf.keras.Sequential()\n",
        "\n",
        "#Add the first layer\n",
        "model.add( Conv2D(32, (5,5), activation = 'relu', input_shape(32,32,3)))\n",
        "\n",
        "#Add a pooling layer\n",
        "model.add(MaxPooling2D((2,2)))\n",
        "\n",
        "#add another convultion layer\n",
        "model.add(Conv2D(64,(3,3) ,activation = 'relu'))\n",
        "\n",
        "#add another pooling layer\n",
        "model.add(MaxPooling2D((2,2)))\n",
        "\n",
        "#add a flattening layer\n",
        "model.add(layers.Flatten())\n",
        "\n",
        "#Add a layer with 1000 neurons\n",
        "model.add(Dense(1000, activation= 'relu')\n",
        "\n",
        "#Add a drop out l\n",
        "modeltf.keras.layers.Dropout(0.5)\n",
        "\n",
        "#Add a layer with 500\n",
        "model.add(Dense(500, activation='relu'))\n",
        "\n",
        "#Add a drop out layer\n",
        "model.add(Dropout(0.5))\n",
        "\n",
        "#Add a layer with 250 neurons\n",
        "model.add(Dense(250, activation='relu'))\n",
        "\n",
        "#Add a layer with 10 neurons \n",
        "model.add(Dense(10,activation='softmax'))\n"
      ],
      "execution_count": null,
      "outputs": []
    },
    {
      "cell_type": "code",
      "metadata": {
        "id": "6_JTJ9zbGNs0"
      },
      "source": [
        "#Compile the model\n",
        "model.compile(loss= 'categorical_crossentropy',\n",
        "              optimizer = 'adam',\n",
        "              metrics = ['accuracy'])"
      ],
      "execution_count": null,
      "outputs": []
    },
    {
      "cell_type": "code",
      "metadata": {
        "id": "C2mQlId_cK46"
      },
      "source": [
        "#Train the model\n",
        "hist = model.fit(x_train, y_train_one_hot,\n",
        "                 batch_size = 256,\n",
        "                 epochs = 10,\n",
        "                 validation_split = 0.2)"
      ],
      "execution_count": null,
      "outputs": []
    },
    {
      "cell_type": "code",
      "metadata": {
        "id": "HetDs513SfrF"
      },
      "source": [
        "#Evaluate the model using the test data set \n",
        "model.evaluate (x_test,y_test_one_hot)[1]"
      ],
      "execution_count": null,
      "outputs": []
    },
    {
      "cell_type": "code",
      "metadata": {
        "id": "sVmQ1L3XSyOt"
      },
      "source": [
        "#visualize the model accuracy \n",
        "plt.plot(hist.history['accuracy'])\n",
        "plt.plot(hist.history['val_accuracy'])\n",
        "plt.title('Model Accuracy')\n",
        "plt.ylabel('Accuracy')\n",
        "plt.xlabel('Epoch')\n",
        "plt.legend(['Train','Val'], loc = 'upper right'\n",
        "plt.show()"
      ],
      "execution_count": null,
      "outputs": []
    },
    {
      "cell_type": "code",
      "metadata": {
        "id": "NjG2NgQ8SycM"
      },
      "source": [
        "#Visual the models loss "
      ],
      "execution_count": null,
      "outputs": []
    },
    {
      "cell_type": "code",
      "metadata": {
        "id": "d1jKLtFcSyy-"
      },
      "source": [
        ""
      ],
      "execution_count": null,
      "outputs": []
    },
    {
      "cell_type": "code",
      "metadata": {
        "id": "TZdZpqYHSy0x"
      },
      "source": [
        ""
      ],
      "execution_count": null,
      "outputs": []
    },
    {
      "cell_type": "code",
      "metadata": {
        "id": "_1_qegwWSy7z"
      },
      "source": [
        ""
      ],
      "execution_count": null,
      "outputs": []
    },
    {
      "cell_type": "code",
      "metadata": {
        "id": "ltcbf609SzDw"
      },
      "source": [
        ""
      ],
      "execution_count": null,
      "outputs": []
    }
  ]
}